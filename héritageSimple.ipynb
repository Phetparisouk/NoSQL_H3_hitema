{
 "cells": [
  {
   "cell_type": "code",
   "execution_count": 1,
   "metadata": {},
   "outputs": [],
   "source": [
    "class DateNaissance:\n",
    "    \n",
    "    def __init__(self, jour, mois, annee):\n",
    "        self.jour = jour\n",
    "        self.mois = mois\n",
    "        self.annee = annee\n",
    "    \n",
    "    def ToString(self):\n",
    "        print(\"Date de naissance: \" +str(self.jour)+\"/\"+str(self.mois)+\"/\"+str(self.annee))\n",
    "        \n",
    "        \n",
    "        \n",
    "class Personne:\n",
    "    \n",
    "    def __init__(self, nom, prenom, date_naissance):\n",
    "        self.nom = nom\n",
    "        self.prenom = prenom\n",
    "        self.date_naissance = date_naissance\n",
    "    \n",
    "    def afficher(self):\n",
    "        print(\"Nom: \" + self.nom)\n",
    "        print(\"Prénom: \" + self.prenom)\n",
    "        self.date_naissance.ToString()\n",
    "        \n",
    "        \n",
    "        \n",
    "class Employe(Personne):\n",
    "    \n",
    "    def __init__(self, nom, prenom, date_naissance, salaire):\n",
    "        Personne.__init__(self, prenom, nom, date_naissance)\n",
    "        self.salaire = salaire\n",
    "        \n",
    "    def afficher(self):\n",
    "        print(\"Nom: \" + self.nom)\n",
    "        print(\"Prénom: \" + self.prenom)\n",
    "        self.date_naissance.ToString()\n",
    "        print(\"Salaire: \" + str(self.salaire))\n",
    "    \n",
    "    def afficher(self):\n",
    "        print(\"Nom: \" + self.nom)\n",
    "        print(\"Prénom: \" + self.prenom)\n",
    "        self.date_naissance.ToString()\n",
    "        \n",
    "\n",
    "        \n",
    "class Chef(Employe):\n",
    "    \n",
    "    def __init__(self, nom, prenom, date_naissance, salaire, service):\n",
    "        Employe.__init__(self, prenom, nom, date_naissance, salaire)\n",
    "        self.service = service\n",
    "    \n",
    "    def afficher(self):\n",
    "        print(\"Nom: \" + self.nom)\n",
    "        print(\"Prénom: \" + self.prenom)\n",
    "        self.date_naissance.ToString()\n",
    "        print(\"Salaire: \" + str(self.salaire))\n",
    "        print(\"Service: \" + self.service)"
   ]
  },
  {
   "cell_type": "code",
   "execution_count": 5,
   "metadata": {},
   "outputs": [
    {
     "ename": "NameError",
     "evalue": "name 'Personne' is not defined",
     "output_type": "error",
     "traceback": [
      "\u001b[1;31m---------------------------------------------------------------------------\u001b[0m",
      "\u001b[1;31mNameError\u001b[0m                                 Traceback (most recent call last)",
      "\u001b[1;32m<ipython-input-5-cadb5ca60562>\u001b[0m in \u001b[0;36m<module>\u001b[1;34m\u001b[0m\n\u001b[1;32m----> 1\u001b[1;33m \u001b[0mP\u001b[0m\u001b[1;33m=\u001b[0m\u001b[0mPersonne\u001b[0m\u001b[1;33m(\u001b[0m\u001b[1;34m\"Ilyass\"\u001b[0m\u001b[1;33m,\u001b[0m\u001b[1;34m\"Math\"\u001b[0m\u001b[1;33m,\u001b[0m\u001b[0mDateNaissance\u001b[0m\u001b[1;33m(\u001b[0m\u001b[1;36m1\u001b[0m\u001b[1;33m,\u001b[0m\u001b[1;36m7\u001b[0m\u001b[1;33m,\u001b[0m\u001b[1;36m1982\u001b[0m\u001b[1;33m)\u001b[0m\u001b[1;33m)\u001b[0m\u001b[1;33m\u001b[0m\u001b[1;33m\u001b[0m\u001b[0m\n\u001b[0m\u001b[0;32m      2\u001b[0m \u001b[0mP\u001b[0m\u001b[1;33m.\u001b[0m\u001b[0mafficher\u001b[0m\u001b[1;33m(\u001b[0m\u001b[1;33m)\u001b[0m\u001b[1;33m\u001b[0m\u001b[1;33m\u001b[0m\u001b[0m\n\u001b[0;32m      3\u001b[0m \u001b[0mE\u001b[0m\u001b[1;33m=\u001b[0m\u001b[0mEmploye\u001b[0m\u001b[1;33m(\u001b[0m\u001b[1;34m\"Ilyass\"\u001b[0m\u001b[1;33m,\u001b[0m\u001b[1;34m\"Math\"\u001b[0m\u001b[1;33m,\u001b[0m\u001b[0mDateNaissance\u001b[0m\u001b[1;33m(\u001b[0m\u001b[1;36m1\u001b[0m\u001b[1;33m,\u001b[0m\u001b[1;36m7\u001b[0m\u001b[1;33m,\u001b[0m\u001b[1;36m1985\u001b[0m\u001b[1;33m)\u001b[0m\u001b[1;33m,\u001b[0m\u001b[1;36m7865.548\u001b[0m\u001b[1;33m)\u001b[0m\u001b[1;33m\u001b[0m\u001b[1;33m\u001b[0m\u001b[0m\n\u001b[0;32m      4\u001b[0m \u001b[0mE\u001b[0m\u001b[1;33m.\u001b[0m\u001b[0mafficher\u001b[0m\u001b[1;33m(\u001b[0m\u001b[1;33m)\u001b[0m\u001b[1;33m\u001b[0m\u001b[1;33m\u001b[0m\u001b[0m\n\u001b[0;32m      5\u001b[0m \u001b[0mCh\u001b[0m\u001b[1;33m=\u001b[0m\u001b[0mChef\u001b[0m\u001b[1;33m(\u001b[0m\u001b[1;34m\"Ilyass\"\u001b[0m\u001b[1;33m,\u001b[0m\u001b[1;34m\"Math\"\u001b[0m\u001b[1;33m,\u001b[0m\u001b[0mDateNaissance\u001b[0m\u001b[1;33m(\u001b[0m\u001b[1;36m1\u001b[0m\u001b[1;33m,\u001b[0m\u001b[1;36m7\u001b[0m\u001b[1;33m,\u001b[0m\u001b[1;36m1988\u001b[0m\u001b[1;33m)\u001b[0m\u001b[1;33m,\u001b[0m\u001b[1;36m7865.548\u001b[0m\u001b[1;33m,\u001b[0m\u001b[1;34m\"Ressource humaine\"\u001b[0m\u001b[1;33m)\u001b[0m\u001b[1;33m\u001b[0m\u001b[1;33m\u001b[0m\u001b[0m\n",
      "\u001b[1;31mNameError\u001b[0m: name 'Personne' is not defined"
     ]
    }
   ],
   "source": [
    "P=Personne(\"Ilyass\",\"Math\",DateNaissance(1,7,1982))\n",
    "P.afficher()\n",
    "E=Employe(\"Ilyass\",\"Math\",DateNaissance(1,7,1985),7865.548)\n",
    "E.afficher()\n",
    "Ch=Chef(\"Ilyass\",\"Math\",DateNaissance(1,7,1988),7865.548,\"Ressource humaine\")\n",
    "Ch.afficher()"
   ]
  },
  {
   "cell_type": "code",
   "execution_count": null,
   "metadata": {},
   "outputs": [],
   "source": []
  }
 ],
 "metadata": {
  "kernelspec": {
   "display_name": "Python 3",
   "language": "python",
   "name": "python3"
  },
  "language_info": {
   "codemirror_mode": {
    "name": "ipython",
    "version": 3
   },
   "file_extension": ".py",
   "mimetype": "text/x-python",
   "name": "python",
   "nbconvert_exporter": "python",
   "pygments_lexer": "ipython3",
   "version": "3.7.6"
  }
 },
 "nbformat": 4,
 "nbformat_minor": 4
}
