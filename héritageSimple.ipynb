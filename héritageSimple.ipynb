{
 "cells": [
  {
   "cell_type": "code",
   "execution_count": 8,
   "metadata": {},
   "outputs": [],
   "source": [
    "\n",
    "class DateNaissance:\n",
    "    def __init__(self, jour, mois, annee):\n",
    "        self.jour = jour\n",
    "        self.mois = mois\n",
    "        self.annee = annee\n",
    "    def ToString(self):\n",
    "        return (str(self.jour)+'/'+str(self.mois)+'/'+(str(self.annee)))\n",
    "\n",
    "    \n",
    "    \n",
    "class Personne:\n",
    "    def __init__(self, nom, prenom, dateDeNaissance):\n",
    "        self.nom = nom\n",
    "        self.prenom = prenom\n",
    "        self.dateDeNaissance = dateDeNaissance\n",
    "\n",
    "    def afficher(self):\n",
    "        print(\"Nom = \" + self.nom)\n",
    "        print(\"Prenom = \" + self.prenom)\n",
    "        print(\"Date de Naissance = \" + self.dateDeNaissance.ToString())    \n",
    "\n",
    "        \n",
    "        \n",
    "class Employe(Personne):\n",
    "    def __init__(self,nom, prenom, dateDeNaissance, salaire):\n",
    "        Personne.__init__(self,nom,prenom,dateDeNaissance)\n",
    "        self.salaire = salaire                    \n",
    "    def afficher(self):\n",
    "        Personne.afficher(self)   \n",
    "        print(\"Salaire = \" + str(self.salaire))\n",
    "\n",
    "        \n",
    "        \n",
    "class Chef(Employe):\n",
    "    def __init__(self,nom, prenom, dateDeNaissance, salaire, service):\n",
    "        Employe.__init__(self,nom,prenom,dateDeNaissance, salaire)\n",
    "        self.service = service                    \n",
    "    def afficher(self):\n",
    "        Employe.afficher(self)  \n",
    "        print(\"Service = \" + self.service)"
   ]
  },
  {
   "cell_type": "code",
   "execution_count": 9,
   "metadata": {},
   "outputs": [
    {
     "name": "stdout",
     "output_type": "stream",
     "text": [
      "Nom = Ilyass\n",
      "Prenom = Math\n",
      "Date de Naissance = 1/7/1982\n"
     ]
    }
   ],
   "source": [
    "P=Personne(\"Ilyass\",\"Math\",DateNaissance(1,7,1982))\n",
    "P.afficher()"
   ]
  },
  {
   "cell_type": "code",
   "execution_count": 10,
   "metadata": {},
   "outputs": [
    {
     "name": "stdout",
     "output_type": "stream",
     "text": [
      "Nom = Ilyass\n",
      "Prenom = Math\n",
      "Date de Naissance = 1/7/1985\n",
      "Salaire = 7865.548\n"
     ]
    }
   ],
   "source": [
    "E=Employe(\"Ilyass\",\"Math\",DateNaissance(1,7,1985),7865.548)\n",
    "E.afficher()"
   ]
  },
  {
   "cell_type": "code",
   "execution_count": 11,
   "metadata": {},
   "outputs": [
    {
     "name": "stdout",
     "output_type": "stream",
     "text": [
      "Nom = Ilyass\n",
      "Prenom = Math\n",
      "Date de Naissance = 1/7/1988\n",
      "Salaire = 7865.548\n",
      "Service = Ressource humaine\n"
     ]
    }
   ],
   "source": [
    "Ch=Chef(\"Ilyass\",\"Math\",DateNaissance(1,7,1988),7865.548,\"Ressource humaine\")\n",
    "Ch.afficher()"
   ]
  },
  {
   "cell_type": "code",
   "execution_count": null,
   "metadata": {},
   "outputs": [],
   "source": []
  }
 ],
 "metadata": {
  "kernelspec": {
   "display_name": "Python 3",
   "language": "python",
   "name": "python3"
  },
  "language_info": {
   "codemirror_mode": {
    "name": "ipython",
    "version": 3
   },
   "file_extension": ".py",
   "mimetype": "text/x-python",
   "name": "python",
   "nbconvert_exporter": "python",
   "pygments_lexer": "ipython3",
   "version": "3.7.6"
  }
 },
 "nbformat": 4,
 "nbformat_minor": 4
}
