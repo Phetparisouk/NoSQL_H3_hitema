{
 "cells": [
  {
   "cell_type": "code",
   "execution_count": 1,
   "metadata": {},
   "outputs": [],
   "source": [
    "class Envoi:\n",
    "    def __init__(self, adresseeExpedition, adresseeDestination, poids, mode):\n",
    "        self.adresseeExpedition = adresseeExpedition\n",
    "        self.adresseeDestination = adresseeDestination\n",
    "        self.poids = poids\n",
    "        self.mode = mode\n",
    "        \n",
    "    def ToString(self):\n",
    "        print( \"Adresse d'expedition : \" + self.adresseeExpedition)\n",
    "        print( \"Adresse destination : \" + self.adresseeDestination)\n",
    "        print( \"Poids : \" + str(self.poids))\n",
    "        print( \"Mode d'éxpedition : \" + self.mode)\n",
    "        \n",
    "    def surchargeExpress(self, montant):\n",
    "        if self.mode==\"express\":\n",
    "            montant*=2\n",
    "        return montant;"
   ]
  },
  {
   "cell_type": "code",
   "execution_count": null,
   "metadata": {},
   "outputs": [],
   "source": [
    "class Lettre(Envoi):\n",
    "    def __init__(self, adresseeExpedition, adresseeDestination, poids, mode, format):\n",
    "        Envoi.__init__(self,adresseeExpedition,adresseeDestination,poids,mode)\n",
    "        self.format = format\n",
    "    def ToString(self):\n",
    "        print(\"Lettre : \")\n",
    "        Envoi.ToString(self)\n",
    "        print( \"Format : \" + self.format)\n",
    "        print(\"Prix du timbre : \" + str(self.calculTimbre()))\n",
    "    def calculTimbre(self):\n",
    "        if(self.format == \"A4\"):\n",
    "            tarif_base = 2.5\n",
    "        else:\n",
    "            tarif_base = 3.5\n",
    "        montant=tarif_base * self.poids/1000\n",
    "        montant = Envoi.surchargeExpress(self, montant)\n",
    "               \n",
    "        return montant "
   ]
  }
 ],
 "metadata": {
  "kernelspec": {
   "display_name": "Python 3",
   "language": "python",
   "name": "python3"
  },
  "language_info": {
   "codemirror_mode": {
    "name": "ipython",
    "version": 3
   },
   "file_extension": ".py",
   "mimetype": "text/x-python",
   "name": "python",
   "nbconvert_exporter": "python",
   "pygments_lexer": "ipython3",
   "version": "3.7.6"
  }
 },
 "nbformat": 4,
 "nbformat_minor": 4
}
